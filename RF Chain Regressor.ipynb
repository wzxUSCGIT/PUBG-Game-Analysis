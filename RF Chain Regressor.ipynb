{
 "cells": [
  {
   "cell_type": "code",
   "execution_count": 8,
   "metadata": {
    "_cell_guid": "b1076dfc-b9ad-4769-8c92-a6c4dae69d19",
    "_uuid": "8f2839f25d086af736a60e9eeb907d3b93b6e0e5"
   },
   "outputs": [
    {
     "name": "stdout",
     "output_type": "stream",
     "text": [
      "['train_V2.csv', 'test_V2.csv', 'sample_submission_V2.csv']\n"
     ]
    }
   ],
   "source": [
    "# This Python 3 environment comes with many helpful analytics libraries installed\n",
    "# It is defined by the kaggle/python docker image: https://github.com/kaggle/docker-python\n",
    "# For example, here's several helpful packages to load in \n",
    "\n",
    "import numpy as np # linear algebra\n",
    "import pandas as pd # data processing, CSV file I/O (e.g. pd.read_csv)\n",
    "\n",
    "# Input data files are available in the \"../input/\" directory.\n",
    "# For example, running this (by clicking run or pressing Shift+Enter) will list the files in the input directory\n",
    "\n",
    "import os\n",
    "print(os.listdir(\"../input\"))\n",
    "\n",
    "# Any results you write to the current directory are saved as output."
   ]
  },
  {
   "cell_type": "code",
   "execution_count": 16,
   "metadata": {
    "_cell_guid": "79c7e3d0-c299-4dcb-8224-4455121ee9b0",
    "_uuid": "d629ff2d2480ee46fbb7e2d37f6b5fab8052498a",
    "collapsed": true,
    "scrolled": true
   },
   "outputs": [],
   "source": [
    "data=pd.read_csv('../input/train_V2.csv')\n",
    "data = data.drop(data[((data.rankPoints != -1) & (data.winPoints==0)) | (data.rankPoints == -1) ].index)\n",
    "\n",
    "data=data.drop(['rankPoints'],axis=1) # this feature is inconsistent and thus removed for analysis\n",
    "#print (len(data))\n",
    "data=data.dropna()\n",
    "#print (len(data))\n",
    "\n",
    "\n",
    "\n",
    "solo_data=data.loc[data['matchType'] == 'solo']\n",
    "solo_data=solo_data.drop(['matchType'],axis=1)\n",
    "\n",
    "from sklearn.preprocessing import StandardScaler\n",
    "# all_colns=list(data.columns.values)\n",
    "# all_colns.remove('Id')\n",
    "# all_colns.remove('groupId')\n",
    "# all_colns.remove('matchId')\n",
    "# all_colns.remove('matchType')\n",
    "# all_colns.remove('winPoints')\n",
    "# all_colns.remove('winPlacePerc')\n",
    "# #print(all_colns)\n",
    "# cols_to_norm=all_colns\n",
    "# solo_data[cols_to_norm] = StandardScaler().fit_transform(solo_data[cols_to_norm])\n",
    "\n",
    "\n",
    "\n",
    "\n",
    "\n",
    "\n",
    "solo_train=solo_data.sample(frac=0.8)\n",
    "solo_test=solo_data.drop(solo_train.index)\n",
    "x_train=solo_train.iloc[:,3:-1]\n",
    "y_train=solo_train.iloc[:,-1]\n",
    "x_test=solo_test.iloc[:,3:-1]\n",
    "y_test=solo_test.iloc[:,-1]\n"
   ]
  },
  {
   "cell_type": "code",
   "execution_count": 17,
   "metadata": {
    "_uuid": "00c315a07e391e4921dd4fdd3cf8af820a0d048a",
    "scrolled": false
   },
   "outputs": [
    {
     "data": {
      "text/plain": [
       "GridSearchCV(cv=5, error_score='raise-deprecating',\n",
       "       estimator=RandomForestRegressor(bootstrap=True, criterion='mse', max_depth=None,\n",
       "           max_features='auto', max_leaf_nodes=None,\n",
       "           min_impurity_decrease=0.0, min_impurity_split=None,\n",
       "           min_samples_leaf=1, min_samples_split=2,\n",
       "           min_weight_fraction_leaf=0.0, n_estimators='warn', n_jobs=None,\n",
       "           oob_score=False, random_state=None, verbose=0, warm_start=False),\n",
       "       fit_params=None, iid='warn', n_jobs=-1,\n",
       "       param_grid=[{'n_estimators': array([ 10,  20,  30,  40,  50,  60,  70,  80,  90, 100]), 'max_features': ['auto', 'sqrt', 'log2']}],\n",
       "       pre_dispatch='2*n_jobs', refit=True, return_train_score=True,\n",
       "       scoring=None, verbose=0)"
      ]
     },
     "execution_count": 17,
     "metadata": {},
     "output_type": "execute_result"
    }
   ],
   "source": [
    "from sklearn.model_selection import GridSearchCV\n",
    "from sklearn.ensemble import RandomForestRegressor as RFR\n",
    "# 'max_depth':np.arange(1,10,1.5)}\n",
    "original_param_grid = [\n",
    "  {'n_estimators': np.arange(10,110,10), 'max_features': ['auto','sqrt','log2']}]\n",
    "original_RF=RFR()\n",
    "original_RF_CV=GridSearchCV(original_RF,original_param_grid,cv=5,refit=True,return_train_score=True,n_jobs=-1)\n",
    "original_RF_CV.fit(x_train,y_train)"
   ]
  },
  {
   "cell_type": "code",
   "execution_count": 18,
   "metadata": {
    "_uuid": "e55ea71cc8bbc49677d13ea09bdc5a38db8561fd"
   },
   "outputs": [
    {
     "data": {
      "text/plain": [
       "0.04695315466462144"
      ]
     },
     "execution_count": 18,
     "metadata": {},
     "output_type": "execute_result"
    }
   ],
   "source": [
    "from sklearn.metrics import mean_absolute_error as mae\n",
    "original_predict=original_RF_CV.predict(x_test)\n",
    "mae(y_test,original_predict)"
   ]
  },
  {
   "cell_type": "code",
   "execution_count": 19,
   "metadata": {
    "_uuid": "4c1823a7b11fc6b29d9784fb7bd26bbb886568a9"
   },
   "outputs": [
    {
     "data": {
      "text/plain": [
       "GridSearchCV(cv=5, error_score='raise-deprecating',\n",
       "       estimator=RandomForestRegressor(bootstrap=True, criterion='mse', max_depth=None,\n",
       "           max_features='auto', max_leaf_nodes=None,\n",
       "           min_impurity_decrease=0.0, min_impurity_split=None,\n",
       "           min_samples_leaf=1, min_samples_split=2,\n",
       "           min_weight_fraction_leaf=0.0, n_estimators='warn', n_jobs=None,\n",
       "           oob_score=False, random_state=None, verbose=0, warm_start=False),\n",
       "       fit_params=None, iid='warn', n_jobs=-1,\n",
       "       param_grid=[{'n_estimators': array([ 10,  20,  30,  40,  50,  60,  70,  80,  90, 100]), 'max_features': ['auto', 'sqrt', 'log2']}],\n",
       "       pre_dispatch='2*n_jobs', refit=True, return_train_score=True,\n",
       "       scoring=None, verbose=0)"
      ]
     },
     "execution_count": 19,
     "metadata": {},
     "output_type": "execute_result"
    }
   ],
   "source": [
    "from sklearn.ensemble import RandomForestRegressor as RFR\n",
    "from sklearn.model_selection import GridSearchCV\n",
    "from sklearn.metrics import mean_absolute_error as mae\n",
    "elo_x_train=x_train.iloc[:,:-1]\n",
    "elo_y_train=x_train.iloc[:,-1]\n",
    "elo_x_test=x_test.iloc[:,:-1]\n",
    "elo_y_test=x_test.iloc[:,-1]\n",
    "\n",
    "\n",
    "elo_param_grid = [\n",
    "  {'n_estimators': np.arange(10,110,10), 'max_features': ['auto','sqrt','log2']}]\n",
    "elo_RF=RFR()\n",
    "elo_RF_CV=GridSearchCV(elo_RF,elo_param_grid,cv=5,refit=True,return_train_score=True,n_jobs=-1)\n",
    "elo_RF_CV.fit(elo_x_train,elo_y_train)"
   ]
  },
  {
   "cell_type": "code",
   "execution_count": 20,
   "metadata": {
    "_uuid": "582f9ed0f93a7c1ffaedc0c64b23fe047d311acc"
   },
   "outputs": [
    {
     "name": "stdout",
     "output_type": "stream",
     "text": [
      "elo prediction score 0.5559786698214774\n"
     ]
    }
   ],
   "source": [
    "from sklearn.metrics import mean_absolute_error as mae\n",
    "print ('elo prediction score',elo_RF_CV.score(elo_x_test,elo_y_test))"
   ]
  },
  {
   "cell_type": "code",
   "execution_count": 25,
   "metadata": {
    "_uuid": "89646d465c8b000c7cffdfd980d8bddba456123e"
   },
   "outputs": [
    {
     "data": {
      "text/plain": [
       "0.046879229399576276"
      ]
     },
     "execution_count": 25,
     "metadata": {},
     "output_type": "execute_result"
    }
   ],
   "source": [
    "elo_diff=np.sign(elo_RF_CV.predict(elo_x_train)-elo_y_train)\n",
    "new_x_train=pd.concat([x_train,elo_diff],axis=1)\n",
    "param_grid = [\n",
    "  {'n_estimators': np.arange(10,110,10), 'max_features': ['auto','sqrt','log2']}]\n",
    "RF=RFR()\n",
    "RF_CV=GridSearchCV(RF,param_grid,cv=5,refit=True,return_train_score=True,n_jobs=-1)\n",
    "RF_CV.fit(new_x_train,y_train)\n",
    "\n",
    "test_elo_diff=np.sign(elo_RF_CV.predict(elo_x_test)-elo_y_test)\n",
    "new_x_test=pd.concat([x_test,test_elo_diff],axis=1)\n",
    "mae(y_test,RF_CV.predict(new_x_test))"
   ]
  },
  {
   "cell_type": "code",
   "execution_count": 21,
   "metadata": {
    "_uuid": "1cf30fc1730b5d63f0b0934e9f55daeaa9e09004"
   },
   "outputs": [
    {
     "data": {
      "text/plain": [
       "GridSearchCV(cv=5, error_score='raise-deprecating',\n",
       "       estimator=RandomForestRegressor(bootstrap=True, criterion='mse', max_depth=None,\n",
       "           max_features='auto', max_leaf_nodes=None,\n",
       "           min_impurity_decrease=0.0, min_impurity_split=None,\n",
       "           min_samples_leaf=1, min_samples_split=2,\n",
       "           min_weight_fraction_leaf=0.0, n_estimators='warn', n_jobs=None,\n",
       "           oob_score=False, random_state=None, verbose=0, warm_start=False),\n",
       "       fit_params=None, iid='warn', n_jobs=-1,\n",
       "       param_grid=[{'n_estimators': array([ 10,  20,  30,  40,  50,  60,  70,  80,  90, 100]), 'max_features': ['auto', 'sqrt', 'log2']}],\n",
       "       pre_dispatch='2*n_jobs', refit=True, return_train_score=True,\n",
       "       scoring=None, verbose=0)"
      ]
     },
     "execution_count": 21,
     "metadata": {},
     "output_type": "execute_result"
    }
   ],
   "source": [
    "# elo*final_placement  , this is a trial feature#   bad performance ----> abandoned\n",
    "\n",
    "# train the model to predict the in-game performance\n",
    "in_game_score=elo_y_train*y_train\n",
    "\n",
    "performance_param_grid = [\n",
    "  {'n_estimators': np.arange(10,110,10), 'max_features': ['auto','sqrt','log2']}]\n",
    "performance_RF=RFR()\n",
    "performance_RF_CV=GridSearchCV(performance_RF,performance_param_grid,cv=5,refit=True,return_train_score=True,n_jobs=-1)\n",
    "performance_RF_CV.fit(elo_x_train,in_game_score)"
   ]
  },
  {
   "cell_type": "code",
   "execution_count": 23,
   "metadata": {
    "_uuid": "54aad9b557fc9ab2e65e3449f67269291d1bc10c"
   },
   "outputs": [
    {
     "data": {
      "text/plain": [
       "GridSearchCV(cv=5, error_score='raise-deprecating',\n",
       "       estimator=RandomForestRegressor(bootstrap=True, criterion='mse', max_depth=None,\n",
       "           max_features='auto', max_leaf_nodes=None,\n",
       "           min_impurity_decrease=0.0, min_impurity_split=None,\n",
       "           min_samples_leaf=1, min_samples_split=2,\n",
       "           min_weight_fraction_leaf=0.0, n_estimators='warn', n_jobs=None,\n",
       "           oob_score=False, random_state=None, verbose=0, warm_start=False),\n",
       "       fit_params=None, iid='warn', n_jobs=-1,\n",
       "       param_grid=[{'n_estimators': array([ 10,  20,  30,  40,  50,  60,  70,  80,  90, 100]), 'max_features': ['auto', 'sqrt', 'log2']}],\n",
       "       pre_dispatch='2*n_jobs', refit=True, return_train_score=True,\n",
       "       scoring=None, verbose=0)"
      ]
     },
     "execution_count": 23,
     "metadata": {},
     "output_type": "execute_result"
    }
   ],
   "source": [
    "# using in-game performance as features\n",
    "performance_x_train=pd.concat([x_train,in_game_score],axis=1)\n",
    "performance_param_grid = [\n",
    "  {'n_estimators': np.arange(10,110,10), 'max_features': ['auto','sqrt','log2']}]\n",
    "RF=RFR()\n",
    "Test_clf=GridSearchCV(RF,performance_param_grid,cv=5,refit=True,return_train_score=True,n_jobs=-1)\n",
    "Test_clf.fit(performance_x_train,y_train)"
   ]
  },
  {
   "cell_type": "code",
   "execution_count": 24,
   "metadata": {
    "_uuid": "574373b0a6632c32f35e2dc9b2d1d16ff406a71f"
   },
   "outputs": [
    {
     "data": {
      "text/plain": [
       "0.04920694835401528"
      ]
     },
     "execution_count": 24,
     "metadata": {},
     "output_type": "execute_result"
    }
   ],
   "source": [
    "added=performance_RF_CV.predict(elo_x_test)\n",
    "added=pd.DataFrame(added)\n",
    "\n",
    "in_game_score_x_test=pd.concat([x_test.reset_index(),added],axis=1)\n",
    "in_game_score_x_test=in_game_score_x_test.iloc[:,1:]\n",
    "mae(y_test,Test_clf.predict(in_game_score_x_test))"
   ]
  },
  {
   "cell_type": "code",
   "execution_count": null,
   "metadata": {
    "_uuid": "e26714467f9a3529b3edb992b030f9af20cd12b6",
    "collapsed": true
   },
   "outputs": [],
   "source": [
    "#### above result is worse than original random forest"
   ]
  },
  {
   "cell_type": "code",
   "execution_count": null,
   "metadata": {
    "_uuid": "ee2a2780ad87edf2a8bf85891c628701384efc49",
    "collapsed": true
   },
   "outputs": [],
   "source": [
    "# multivariate polynomial regressor to predict ELO   ##### bad performance on prediction on ELO\n",
    "from sklearn.preprocessing import PolynomialFeatures\n",
    "from sklearn.linear_model import LinearRegression\n",
    "poly = PolynomialFeatures(degree=2)\n",
    "X_ = poly.fit_transform(elo_x_train)\n",
    "#elo_y_train=np.array(elo_y_train)\n",
    "predict_ = poly.fit_transform(elo_x_test)\n",
    "clf = LinearRegression()\n",
    "clf.fit(X_, elo_y_train)\n",
    "clf.score(predict_,elo_y_test)"
   ]
  },
  {
   "cell_type": "code",
   "execution_count": null,
   "metadata": {
    "_uuid": "296db7ce51080986fe5e0db80fb5870b96bb149e",
    "collapsed": true
   },
   "outputs": [],
   "source": [
    "##################################################################################\n",
    "##################################################################################\n",
    "##################################################################################\n",
    "\n",
    "#       This is ELO difference predictor  \n",
    "#       This is ELO difference predictor\n",
    "#       This is ELO difference predictor  \n",
    "\n",
    "from sklearn.ensemble import RandomForestRegressor as RFR\n",
    "from sklearn.model_selection import GridSearchCV\n",
    "def elo_predictor(train,test): # last column of df should be winPoints, train is used to train elo_predictor\n",
    "    \n",
    "    train = train.drop(train[((train.rankPoints != -1) & (train.winPoints==0)) | (train.rankPoints == -1) ].index)\n",
    "    train= train.drop(['rankPoints'],axis=1) # this feature is inconsistent and thus removed for analysis\n",
    "    \n",
    "    test = test.drop(test[((test.rankPoints != -1) & (test.winPoints==0)) | (test.rankPoints == -1) ].index)\n",
    "    test = test.drop(['rankPoints'],axis=1) # this feature is inconsistent and thus removed for analysis\n",
    "    \n",
    "    x_train=train.iloc[:,3:-1]   # First three columns are ID information, not useful for prediction and thus removed\n",
    "    y_train=train.iloc[:,-1]     # Matchtype should be preprocessed by one-hot-encoding before passing into function\n",
    "    x_test=test.iloc[:,3:-1]     # Both input should include rankPoints. They will be dropped later in this function\n",
    "    y_test=test.iloc[:,-1]\n",
    "    \n",
    "    \n",
    "#     x_train = x_train.drop(x_train[((x_train.rankPoints != -1) & (x_train.winPoints==0)) | (x_train.rankPoints == -1) ].index)\n",
    "#     x_train= x_train.drop(['rankPoints'],axis=1) # this feature is inconsistent and thus removed for analysis\n",
    "    \n",
    "#     x_test = x_test.drop(x_test[((x_test.rankPoints != -1) & (x_test.winPoints==0)) | (x_test.rankPoints == -1) ].index)\n",
    "#     x_test = x_test.drop(['rankPoints'],axis=1) # this feature is inconsistent and thus removed for analysis\n",
    "    \n",
    "#     elo_x_train=x_train.iloc[:,:-1]\n",
    "#     elo_y_train=train.iloc[:,-1]\n",
    "#     elo_x_test=test.iloc[:,:-1]\n",
    "#     elo_y_test=test.iloc[:,-1]\n",
    "    elo_param_grid = [\n",
    "      {'n_estimators': np.arange(10,110,10), 'max_features': ['auto','sqrt','log2']}]\n",
    "    elo_RF=RFR()\n",
    "    elo_RF_CV=GridSearchCV(elo_RF,elo_param_grid,cv=5,refit=True,return_train_score=True,n_jobs=-1)\n",
    "    elo_RF_CV.fit(x_train,y_train)\n",
    "    elo_predict=elo_RF_CV.predict(x_test)\n",
    "    elo_diff=elo_predict-y_test   # postiive = player is doing better than before, negative = playis is doing worse than before\n",
    "    return (elo_diff)\n",
    "    \n",
    "    "
   ]
  },
  {
   "cell_type": "code",
   "execution_count": null,
   "metadata": {
    "_uuid": "1726557b3c9e1f3173ba361f5e7ef1b20a53620b",
    "collapsed": true,
    "scrolled": true
   },
   "outputs": [],
   "source": [
    "#############  test function\n",
    "data=pd.read_csv('../input/train_V2.csv')\n",
    "a=data.sample(frac=0.1)\n",
    "\n",
    "b=data.sample(frac=0.1)\n",
    "\n",
    "# a=pd.Series.to_frame(a)\n",
    "# b=pd.Series.to_frame(b)\n",
    "a['matchType']=a['matchType'].astype('category').cat.codes\n",
    "b['matchType']=b['matchType'].astype('category').cat.codes\n",
    "elo_predictor(a,b)"
   ]
  },
  {
   "cell_type": "code",
   "execution_count": null,
   "metadata": {
    "_uuid": "7b77e4773e84ef56747f3d4845e702dca83ae9c7",
    "collapsed": true
   },
   "outputs": [],
   "source": []
  },
  {
   "cell_type": "code",
   "execution_count": null,
   "metadata": {
    "_uuid": "55bf5a4006240c1024731b346671bdbe83407f65",
    "collapsed": true
   },
   "outputs": [],
   "source": []
  }
 ],
 "metadata": {
  "kernelspec": {
   "display_name": "Python 3",
   "language": "python",
   "name": "python3"
  },
  "language_info": {
   "codemirror_mode": {
    "name": "ipython",
    "version": 3
   },
   "file_extension": ".py",
   "mimetype": "text/x-python",
   "name": "python",
   "nbconvert_exporter": "python",
   "pygments_lexer": "ipython3",
   "version": "3.6.3"
  }
 },
 "nbformat": 4,
 "nbformat_minor": 1
}
